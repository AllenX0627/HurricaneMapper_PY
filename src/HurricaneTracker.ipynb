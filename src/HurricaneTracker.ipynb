{
 "cells": [
  {
   "cell_type": "markdown",
   "id": "5539b895",
   "metadata": {},
   "source": [
    "## Hurricane Tracking Workflow\n",
    "This notebook selects trackpoints from a features class of trackpoints for a selected storm (season & name), creates a track line, and extracts US counties that intersect that trackline. \n",
    "\n",
    "Fall 202X  \n",
    "John.Fay@duke.edu"
   ]
  },
  {
   "cell_type": "code",
   "execution_count": null,
   "id": "ae797957",
   "metadata": {},
   "outputs": [],
   "source": [
    "#Import package\n",
    "import arcpy\n",
    "from pathlib import Path\n",
    "\n",
    "#Set paths\n",
    "raw_folder_path = Path.cwd().parent / 'data' / 'raw'\n",
    "processed_folder_path = Path.cwd().parent / 'data' / 'processed'\n",
    "\n",
    "#Arcpy environment settings\n",
    "arcpy.env.workspace = str(raw_folder_path)\n",
    "arcpy.env.overwriteOutput = True"
   ]
  },
  {
   "cell_type": "code",
   "execution_count": null,
   "id": "81cb8524",
   "metadata": {},
   "outputs": [],
   "source": [
    "#Set storm variable\n",
    "storm_season = 2024\n",
    "storm_name = \"HELENE\"\n",
    "affected_counties = processed_folder_path / 'affected_counties.shp'\n",
    "\n",
    "#Set model layers\n",
    "ibtracs_NA_points = str(raw_folder_path /'IBTrACS_NA.shp')\n",
    "usa_counties = 'https://services.arcgis.com/P3ePLMYs2RVChkJx/arcgis/rest/services/USA_Counties_Generalized_Boundaries/FeatureServer/0'\n",
    "storm_track_points =  \"memory\\\\track_points\"\n",
    "storm_track_line = \"memory\\\\Tracklines\""
   ]
  },
  {
   "cell_type": "markdown",
   "id": "27cb552c",
   "metadata": {},
   "source": [
    "#### Select point features corresponding to a specific storm (season & name)"
   ]
  },
  {
   "cell_type": "code",
   "execution_count": null,
   "id": "55eae029",
   "metadata": {},
   "outputs": [],
   "source": [
    "#Select points for a given storm\n",
    "arcpy.analysis.Select(\n",
    "    in_features=ibtracs_NA_points, \n",
    "    out_feature_class=storm_track_points, \n",
    "    where_clause=f\"SEASON = {storm_season} And NAME = '{storm_name}'\"\n",
    ")"
   ]
  },
  {
   "cell_type": "markdown",
   "id": "cfd91b39",
   "metadata": {},
   "source": [
    "#### Connect Points to a Track line"
   ]
  },
  {
   "cell_type": "code",
   "execution_count": null,
   "id": "8c1cfee7",
   "metadata": {},
   "outputs": [],
   "source": [
    "#Connect point to a track line\n",
    "arcpy.management.PointsToLine(\n",
    "    Input_Features=storm_track_points,\n",
    "    Output_Feature_Class=storm_track_line,\n",
    "    Sort_Field='ISO_TIME'\n",
    ")"
   ]
  },
  {
   "cell_type": "markdown",
   "id": "b3f8cfb9",
   "metadata": {},
   "source": [
    "#### Select Counties Intersecting Point"
   ]
  },
  {
   "cell_type": "code",
   "execution_count": null,
   "id": "adf6f8c5",
   "metadata": {},
   "outputs": [],
   "source": [
    "#Select intersecting counties\n",
    "select_output = arcpy.management.SelectLayerByLocation(\n",
    "    in_layer=usa_counties, \n",
    "    overlap_type=\"INTERSECT\", \n",
    "    select_features=storm_track_line, \n",
    "    )\n",
    "select_result = select_output.getOutput(0)"
   ]
  },
  {
   "cell_type": "code",
   "execution_count": null,
   "id": "31526ee1",
   "metadata": {},
   "outputs": [],
   "source": [
    "#Copy selected counties to output feature class\n",
    "arcpy.management.CopyFeatures(\n",
    "    in_features = select_result, \n",
    "    out_feature_class = str(affected_counties)\n",
    ")"
   ]
  }
 ],
 "metadata": {
  "kernelspec": {
   "display_name": "arcgispro-py3",
   "language": "python",
   "name": "python3"
  },
  "language_info": {
   "codemirror_mode": {
    "name": "ipython",
    "version": 3
   },
   "file_extension": ".py",
   "mimetype": "text/x-python",
   "name": "python",
   "nbconvert_exporter": "python",
   "pygments_lexer": "ipython3",
   "version": "3.11.11"
  }
 },
 "nbformat": 4,
 "nbformat_minor": 5
}
